{
  "nbformat": 4,
  "nbformat_minor": 0,
  "metadata": {
    "colab": {
      "provenance": []
    },
    "kernelspec": {
      "name": "python3",
      "display_name": "Python 3"
    },
    "language_info": {
      "name": "python"
    }
  },
  "cells": [
    {
      "cell_type": "code",
      "execution_count": null,
      "metadata": {
        "id": "cncjjbM3GBAF"
      },
      "outputs": [],
      "source": [
        "import tensorflow as tf\n",
        "import pandas as pd\n",
        "import numpy as np\n",
        "from sklearn.model_selection import train_test_split\n",
        "from sklearn.preprocessing import StandardScaler\n",
        "import matplotlib.pyplot as plt"
      ]
    },
    {
      "cell_type": "code",
      "source": [
        "csv1 = pd.read_csv('high_popularity_spotify_data.csv')\n",
        "csv2 = pd.read_csv('low_popularity_spotify_data.csv')"
      ],
      "metadata": {
        "id": "6F4XcdVLHTUU"
      },
      "execution_count": null,
      "outputs": []
    },
    {
      "cell_type": "code",
      "source": [
        "csv1 = csv1.drop(columns=['track_artist', 'track_album_id', 'id', 'playlist_id', 'analysis_url','track_href', 'uri', 'type','mode','key','track_album_name','playlist_name','track_id','track_album_release_date', 'track_name','time_signature'])"
      ],
      "metadata": {
        "id": "M5kb6t-VHsQY"
      },
      "execution_count": null,
      "outputs": []
    },
    {
      "cell_type": "code",
      "source": [
        "csv2 = csv2.drop(columns=['track_artist', 'track_album_id', 'id', 'playlist_id', 'analysis_url','track_href', 'uri', 'type','mode','key','track_album_name','playlist_name','track_id','track_album_release_date', 'track_name', 'time_signature'])"
      ],
      "metadata": {
        "id": "1_3uirc-MJ6I"
      },
      "execution_count": null,
      "outputs": []
    },
    {
      "cell_type": "code",
      "source": [
        "csv3 = pd.concat([csv1, csv2])\n",
        "csv3.columns"
      ],
      "metadata": {
        "id": "IjqhDW4tM2EE"
      },
      "execution_count": null,
      "outputs": []
    },
    {
      "cell_type": "code",
      "source": [
        "csv3 = csv3.sample(frac=1, random_state=42).reset_index(drop=True)"
      ],
      "metadata": {
        "id": "EpF9xn2rOh35"
      },
      "execution_count": null,
      "outputs": []
    },
    {
      "cell_type": "code",
      "source": [
        "csv3 = pd.get_dummies(csv3, columns=['playlist_genre', 'playlist_subgenre'])\n",
        "csv3 = csv3.drop(index=3068)"
      ],
      "metadata": {
        "id": "VoG4ifoQR-13"
      },
      "execution_count": null,
      "outputs": []
    },
    {
      "cell_type": "code",
      "source": [
        "csv3_features = csv3.copy()\n",
        "csv3_labels = csv3_features.pop('track_popularity')\n",
        "\n"
      ],
      "metadata": {
        "id": "gxRu1Ch6NpJy"
      },
      "execution_count": null,
      "outputs": []
    },
    {
      "cell_type": "code",
      "source": [
        "labs = []\n",
        "cont = 0\n",
        "for a in csv3_features.keys():\n",
        "\n",
        "  if cont <= 9:\n",
        "    labs.append(a)\n",
        "  cont +=1"
      ],
      "metadata": {
        "id": "XRIZobeAU8DQ"
      },
      "execution_count": null,
      "outputs": []
    },
    {
      "cell_type": "code",
      "source": [
        "labs"
      ],
      "metadata": {
        "id": "kSSI9XewV62B"
      },
      "execution_count": null,
      "outputs": []
    },
    {
      "cell_type": "code",
      "source": [
        "scaler = StandardScaler()\n",
        "csv3_features[labs] = scaler.fit_transform(csv3_features[labs])\n",
        "csv3_features = csv3_features.replace({True: 1, False: 0})\n"
      ],
      "metadata": {
        "id": "w0h1aMToTg8e"
      },
      "execution_count": null,
      "outputs": []
    },
    {
      "cell_type": "code",
      "source": [
        "X_train, X_test, y_train, y_test = train_test_split(csv3_features, csv3_labels, test_size=0.2, random_state=42)"
      ],
      "metadata": {
        "id": "9WQ_8VhxO7uG"
      },
      "execution_count": null,
      "outputs": []
    },
    {
      "cell_type": "code",
      "source": [
        "model = tf.keras.Sequential([\n",
        "    tf.keras.layers.Dense(100, activation='relu', input_shape=[len(X_train.keys())]),\n",
        "    tf.keras.layers.Dense(10, activation='relu'),\n",
        "    tf.keras.layers.Dense(1)\n",
        "])\n",
        "\n",
        "model.compile(loss= 'mean_squared_error',\n",
        "              optimizer=tf.keras.optimizers.Adam(0.1),\n",
        "              metrics=['mae'])\n",
        "model.fit(X_train, y_train, epochs=100)"
      ],
      "metadata": {
        "id": "4IxFsKtXPsox"
      },
      "execution_count": null,
      "outputs": []
    },
    {
      "cell_type": "markdown",
      "source": [],
      "metadata": {
        "id": "ZjzA5qUXcw4O"
      }
    },
    {
      "cell_type": "code",
      "source": [
        "loss, accuracy = model.evaluate(X_test, y_test)"
      ],
      "metadata": {
        "id": "zyMjfO8ShOBU"
      },
      "execution_count": null,
      "outputs": []
    },
    {
      "cell_type": "code",
      "source": [
        "indices_com_nulos = csv3.index[csv3.isnull().any(axis=1)].tolist()\n",
        "print(indices_com_nulos)"
      ],
      "metadata": {
        "id": "vu3gnlblhiyk"
      },
      "execution_count": null,
      "outputs": []
    },
    {
      "cell_type": "code",
      "source": [
        "model.summary()"
      ],
      "metadata": {
        "id": "nisR6VE43_gd"
      },
      "execution_count": null,
      "outputs": []
    },
    {
      "cell_type": "code",
      "source": [
        "predicoes = model.predict(X_test)\n",
        "predicoes"
      ],
      "metadata": {
        "id": "Hvfjr_FYxXJ6"
      },
      "execution_count": null,
      "outputs": []
    },
    {
      "cell_type": "code",
      "source": [
        "for true, pred in zip(y_test, predicoes):\n",
        "    print(f\"Valor Real: {true}, Previsão: {pred}\")"
      ],
      "metadata": {
        "id": "7hzrHo_Hykze"
      },
      "execution_count": null,
      "outputs": []
    },
    {
      "cell_type": "code",
      "source": [
        "errors = y_test.values - predicoes\n",
        "\n",
        "errors.mean()"
      ],
      "metadata": {
        "id": "V_9emewfkCX4"
      },
      "execution_count": null,
      "outputs": []
    }
  ]
}